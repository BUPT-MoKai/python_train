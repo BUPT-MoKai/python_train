{
 "cells": [
  {
   "cell_type": "code",
   "execution_count": 1,
   "metadata": {},
   "outputs": [
    {
     "name": "stdout",
     "output_type": "stream",
     "text": [
      "Extracting MNIST_DATA/train-images-idx3-ubyte.gz\n",
      "Extracting MNIST_DATA/train-labels-idx1-ubyte.gz\n",
      "Extracting MNIST_DATA/t10k-images-idx3-ubyte.gz\n",
      "Extracting MNIST_DATA/t10k-labels-idx1-ubyte.gz\n",
      "(55000, 784) (55000, 10)\n",
      "(10000, 784) (10000, 10)\n",
      "(5000, 784) (5000, 10)\n",
      "0.9214\n"
     ]
    }
   ],
   "source": [
    "from tensorflow.examples.tutorials.mnist import input_data \n",
    "mnist = input_data.read_data_sets(\"MNIST_DATA/\",one_hot=True)\n",
    "\n",
    "print(mnist.train.images.shape, mnist.train.labels.shape)\n",
    "print(mnist.test.images.shape, mnist.test.labels.shape)\n",
    "print(mnist.validation.images.shape, mnist.validation.labels.shape)\n",
    "\n",
    "import tensorflow as tf\n",
    "sees = tf.InteractiveSession()  #注册为默认session\n",
    "x = tf.placeholder(tf.float32, [None,784]) #placeholder是输入数据的地方;None表示不限条数的输入\n",
    "\n",
    "W = tf.Variable(tf.zeros([784, 10]))\n",
    "b = tf.Variable(tf.zeros([10]))\n",
    "\n",
    "y = tf.nn.softmax(tf.matmul(x,W) + b) #tf.nn包含大量神经网络的组件;tf.matmul是TensorFlow中的矩阵乘法函数\n",
    "y_ = tf.placeholder(tf.float32, [None,10])\n",
    "cross_entropy = tf.reduce_mean(-tf.reduce_sum(y_ * tf.log(y),reduction_indices=[1])) #loss function;tf.reduce_sum为求和;\n",
    "                                                                                #tf.reduce_mean对每个batch数据结果求均值     \n",
    "train_step = tf.train.GradientDescentOptimizer(0.5).minimize(cross_entropy) #直接调用封装好的优化器\n",
    "\n",
    "tf.global_variables_initializer().run() #全局参数初始化器且直接运行run方法\n",
    "\n",
    "for i in range(1000):  #迭代地执行训练操作train_step;每次随机从训练集中抽取100条样本构成一个mini-batch，并feed给placeholder\n",
    "    batch_xs,batch_ys = mnist.train.next_batch(100)\n",
    "    train_step.run({x: batch_xs, y_:batch_ys})\n",
    "\n",
    "correct_prediction = tf.equal(tf.argmax(y,1),tf.argmax(y_,1)) #tf.argmax是从一个tensor中寻找最大值的序号\n",
    "accuracy = tf.reduce_mean(tf.cast(correct_prediction, tf.float32)) #将correct_prediction输出的bool值转换为float32，再求平均\n",
    "\n",
    "print(accuracy.eval({x: mnist.test.images, y_:mnist.test.labels}))"
   ]
  }
 ],
 "metadata": {
  "anaconda-cloud": {},
  "kernelspec": {
   "display_name": "Python 3",
   "language": "python",
   "name": "python3"
  },
  "language_info": {
   "codemirror_mode": {
    "name": "ipython",
    "version": 3
   },
   "file_extension": ".py",
   "mimetype": "text/x-python",
   "name": "python",
   "nbconvert_exporter": "python",
   "pygments_lexer": "ipython3",
   "version": "3.5.4"
  }
 },
 "nbformat": 4,
 "nbformat_minor": 1
}
